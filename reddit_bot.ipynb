{
 "cells": [
  {
   "cell_type": "code",
   "execution_count": 67,
   "metadata": {},
   "outputs": [
    {
     "name": "stdout",
     "output_type": "stream",
     "text": [
      "Toxicity wins you games\n"
     ]
    }
   ],
   "source": [
    "import praw\n",
    "import time\n",
    "\n",
    "r = praw.Reddit(username = 'singsong-fan-bot',\n",
    "\t\t\tpassword = 'm4a111',\n",
    "\t\t\tclient_id = '8tmIAS8GwxhgGQ',\n",
    "\t\t\tclient_secret = 'pKgO02PIPtReHsBH0DbMUDzYNiM',\n",
    "\t\t\tuser_agent = \"singsing bot - v1\")\n",
    "\n",
    "subreddit = r.subreddit(\"Dota2\")\n",
    "for submission in subreddit.new(limit=25):\n",
    "    if (\"SingSing\" or \"singsing\") in submission.title:\n",
    "        submission.reply(\"Did you know singsing was the highest mmr on the leaderboard when mmr was not announced ? Tobi said when he went to valve HQ he got a glimpse of the mmr leaderboard and singsing was at the top\")\n",
    "        time.sleep(20)"
   ]
  },
  {
   "cell_type": "code",
   "execution_count": null,
   "metadata": {
    "collapsed": true
   },
   "outputs": [],
   "source": []
  }
 ],
 "metadata": {
  "kernelspec": {
   "display_name": "Python 2",
   "language": "python",
   "name": "python2"
  },
  "language_info": {
   "codemirror_mode": {
    "name": "ipython",
    "version": 2
   },
   "file_extension": ".py",
   "mimetype": "text/x-python",
   "name": "python",
   "nbconvert_exporter": "python",
   "pygments_lexer": "ipython2",
   "version": "2.7.13"
  }
 },
 "nbformat": 4,
 "nbformat_minor": 2
}
